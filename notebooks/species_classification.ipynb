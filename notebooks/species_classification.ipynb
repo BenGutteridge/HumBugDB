{
 "cells": [
  {
   "cell_type": "code",
   "execution_count": 1,
   "metadata": {},
   "outputs": [
    {
     "name": "stderr",
     "output_type": "stream",
     "text": [
      "C:\\Users\\ikiskin\\AppData\\Local\\conda\\conda\\envs\\tf-gpu\\lib\\site-packages\\librosa\\util\\decorators.py:9: NumbaDeprecationWarning: \u001b[1mAn import was requested from a module that has moved location.\n",
      "Import requested from: 'numba.decorators', please update to use 'numba.core.decorators' or pin to Numba version 0.48.0. This alias will not be present in Numba version 0.50.0.\u001b[0m\n",
      "  from numba.decorators import jit as optional_jit\n",
      "C:\\Users\\ikiskin\\AppData\\Local\\conda\\conda\\envs\\tf-gpu\\lib\\site-packages\\librosa\\util\\decorators.py:9: NumbaDeprecationWarning: \u001b[1mAn import was requested from a module that has moved location.\n",
      "Import of 'jit' requested from: 'numba.decorators', please update to use 'numba.core.decorators' or pin to Numba version 0.48.0. This alias will not be present in Numba version 0.50.0.\u001b[0m\n",
      "  from numba.decorators import jit as optional_jit\n",
      "C:\\Users\\ikiskin\\AppData\\Local\\conda\\conda\\envs\\tf-gpu\\lib\\site-packages\\tensorflow\\python\\framework\\dtypes.py:516: FutureWarning: Passing (type, 1) or '1type' as a synonym of type is deprecated; in a future version of numpy, it will be understood as (type, (1,)) / '(1,)type'.\n",
      "  _np_qint8 = np.dtype([(\"qint8\", np.int8, 1)])\n",
      "C:\\Users\\ikiskin\\AppData\\Local\\conda\\conda\\envs\\tf-gpu\\lib\\site-packages\\tensorflow\\python\\framework\\dtypes.py:517: FutureWarning: Passing (type, 1) or '1type' as a synonym of type is deprecated; in a future version of numpy, it will be understood as (type, (1,)) / '(1,)type'.\n",
      "  _np_quint8 = np.dtype([(\"quint8\", np.uint8, 1)])\n",
      "C:\\Users\\ikiskin\\AppData\\Local\\conda\\conda\\envs\\tf-gpu\\lib\\site-packages\\tensorflow\\python\\framework\\dtypes.py:518: FutureWarning: Passing (type, 1) or '1type' as a synonym of type is deprecated; in a future version of numpy, it will be understood as (type, (1,)) / '(1,)type'.\n",
      "  _np_qint16 = np.dtype([(\"qint16\", np.int16, 1)])\n",
      "C:\\Users\\ikiskin\\AppData\\Local\\conda\\conda\\envs\\tf-gpu\\lib\\site-packages\\tensorflow\\python\\framework\\dtypes.py:519: FutureWarning: Passing (type, 1) or '1type' as a synonym of type is deprecated; in a future version of numpy, it will be understood as (type, (1,)) / '(1,)type'.\n",
      "  _np_quint16 = np.dtype([(\"quint16\", np.uint16, 1)])\n",
      "C:\\Users\\ikiskin\\AppData\\Local\\conda\\conda\\envs\\tf-gpu\\lib\\site-packages\\tensorflow\\python\\framework\\dtypes.py:520: FutureWarning: Passing (type, 1) or '1type' as a synonym of type is deprecated; in a future version of numpy, it will be understood as (type, (1,)) / '(1,)type'.\n",
      "  _np_qint32 = np.dtype([(\"qint32\", np.int32, 1)])\n",
      "C:\\Users\\ikiskin\\AppData\\Local\\conda\\conda\\envs\\tf-gpu\\lib\\site-packages\\tensorflow\\python\\framework\\dtypes.py:525: FutureWarning: Passing (type, 1) or '1type' as a synonym of type is deprecated; in a future version of numpy, it will be understood as (type, (1,)) / '(1,)type'.\n",
      "  np_resource = np.dtype([(\"resource\", np.ubyte, 1)])\n",
      "C:\\Users\\ikiskin\\AppData\\Local\\conda\\conda\\envs\\tf-gpu\\lib\\site-packages\\tensorboard\\compat\\tensorflow_stub\\dtypes.py:541: FutureWarning: Passing (type, 1) or '1type' as a synonym of type is deprecated; in a future version of numpy, it will be understood as (type, (1,)) / '(1,)type'.\n",
      "  _np_qint8 = np.dtype([(\"qint8\", np.int8, 1)])\n",
      "C:\\Users\\ikiskin\\AppData\\Local\\conda\\conda\\envs\\tf-gpu\\lib\\site-packages\\tensorboard\\compat\\tensorflow_stub\\dtypes.py:542: FutureWarning: Passing (type, 1) or '1type' as a synonym of type is deprecated; in a future version of numpy, it will be understood as (type, (1,)) / '(1,)type'.\n",
      "  _np_quint8 = np.dtype([(\"quint8\", np.uint8, 1)])\n",
      "C:\\Users\\ikiskin\\AppData\\Local\\conda\\conda\\envs\\tf-gpu\\lib\\site-packages\\tensorboard\\compat\\tensorflow_stub\\dtypes.py:543: FutureWarning: Passing (type, 1) or '1type' as a synonym of type is deprecated; in a future version of numpy, it will be understood as (type, (1,)) / '(1,)type'.\n",
      "  _np_qint16 = np.dtype([(\"qint16\", np.int16, 1)])\n",
      "C:\\Users\\ikiskin\\AppData\\Local\\conda\\conda\\envs\\tf-gpu\\lib\\site-packages\\tensorboard\\compat\\tensorflow_stub\\dtypes.py:544: FutureWarning: Passing (type, 1) or '1type' as a synonym of type is deprecated; in a future version of numpy, it will be understood as (type, (1,)) / '(1,)type'.\n",
      "  _np_quint16 = np.dtype([(\"quint16\", np.uint16, 1)])\n",
      "C:\\Users\\ikiskin\\AppData\\Local\\conda\\conda\\envs\\tf-gpu\\lib\\site-packages\\tensorboard\\compat\\tensorflow_stub\\dtypes.py:545: FutureWarning: Passing (type, 1) or '1type' as a synonym of type is deprecated; in a future version of numpy, it will be understood as (type, (1,)) / '(1,)type'.\n",
      "  _np_qint32 = np.dtype([(\"qint32\", np.int32, 1)])\n",
      "C:\\Users\\ikiskin\\AppData\\Local\\conda\\conda\\envs\\tf-gpu\\lib\\site-packages\\tensorboard\\compat\\tensorflow_stub\\dtypes.py:550: FutureWarning: Passing (type, 1) or '1type' as a synonym of type is deprecated; in a future version of numpy, it will be understood as (type, (1,)) / '(1,)type'.\n",
      "  np_resource = np.dtype([(\"resource\", np.ubyte, 1)])\n"
     ]
    }
   ],
   "source": [
    "import os\n",
    "import pandas as pd\n",
    "import sys\n",
    "sys.path.insert(0, os.path.abspath('../lib'))\n",
    "\n",
    "import config\n",
    "from feat_util import get_train_test_from_df, get_test_from_df\n",
    "from write_audio import write_audio_for_df\n",
    "from evaluate import get_results, plot_confusion_matrix_multiclass, compute_plot_roc_multiclass\n",
    "\n",
    "from sklearn.utils import shuffle\n",
    "import numpy as np\n",
    "\n",
    "# Troubleshooting and visualisation\n",
    "import IPython.display as ipd"
   ]
  },
  {
   "cell_type": "code",
   "execution_count": 14,
   "metadata": {},
   "outputs": [],
   "source": [
    "# Extra imports\n",
    "import feat_util\n",
    "import librosa\n",
    "from tqdm import tqdm\n",
    "import matplotlib.pyplot as plt"
   ]
  },
  {
   "cell_type": "code",
   "execution_count": 3,
   "metadata": {},
   "outputs": [
    {
     "name": "stderr",
     "output_type": "stream",
     "text": [
      "Using TensorFlow backend.\n"
     ]
    }
   ],
   "source": [
    "library = 'Keras'\n",
    "\n",
    "if library == 'PyTorch':\n",
    "    from runTorch import train_model, load_model, evaluate_model\n",
    "elif library == 'Keras':\n",
    "    from tensorflow import keras\n",
    "    import config_keras\n",
    "    from runKeras import train_model, load_model, evaluate_model\n",
    "else:\n",
    "    print('Library:', library, 'not supported. Please add your own code for support of that framework.')"
   ]
  },
  {
   "cell_type": "code",
   "execution_count": 4,
   "metadata": {},
   "outputs": [],
   "source": [
    "# Select IHI Tanzania cup data to use for multi-species classification\n",
    "\n",
    "df = pd.read_csv(config.data_df)\n",
    "idx_multiclass = np.logical_and(df['country'] == 'Tanzania', df['location_type'] == 'cup')\n",
    "df_all = df[idx_multiclass]"
   ]
  },
  {
   "cell_type": "code",
   "execution_count": 5,
   "metadata": {},
   "outputs": [],
   "source": [
    "# Select list of classes with sufficient samples for significant analysis. Ordered with similar groups in adjacent classes.\n",
    "\n",
    "classes = ['an arabiensis','culex pipiens complex', 'ae aegypti','an funestus ss','an squamosus',\n",
    "               'an coustani','ma uniformis','ma africanus']"
   ]
  },
  {
   "cell_type": "markdown",
   "metadata": {},
   "source": [
    "# Create features (only re-run if not loading from pickle)"
   ]
  },
  {
   "cell_type": "code",
   "execution_count": 33,
   "metadata": {},
   "outputs": [],
   "source": [
    "import collections\n",
    "species_dict = collections.OrderedDict()\n",
    "species_recordings = collections.OrderedDict()\n",
    "for species in classes:\n",
    "    # Number of total audio clips per species (includes repeats from same filename)\n",
    "    species_recordings[species] = len(pd.unique(df_all[df_all.species==species].name)) # Number of unique audio recordings (and hence mosquitoes)\n",
    "    species_dict[species] = sum(df_all[df_all.species==species].length)"
   ]
  },
  {
   "cell_type": "code",
   "execution_count": 37,
   "metadata": {},
   "outputs": [],
   "source": [
    "tqdm._instances.clear()"
   ]
  },
  {
   "cell_type": "code",
   "execution_count": 36,
   "metadata": {},
   "outputs": [
    {
     "name": "stderr",
     "output_type": "stream",
     "text": [
      "100%|███████████████████████████████████████████████████████████████████████████████████| 8/8 [00:00<00:00, 421.19it/s]"
     ]
    },
    {
     "name": "stdout",
     "output_type": "stream",
     "text": [
      "an arabiensis 385 129\n",
      "culex pipiens complex 252 84\n",
      "ae aegypti 36 13\n",
      "an funestus ss 186 62\n",
      "an squamosus 68 23\n",
      "an coustani 37 13\n",
      "ma uniformis 57 19\n",
      "ma africanus 28 10\n"
     ]
    },
    {
     "name": "stderr",
     "output_type": "stream",
     "text": [
      "\n"
     ]
    }
   ],
   "source": [
    "# Divide recordings into train and test, with recording shuffling fixed by random_state\n",
    "train_fraction = 0.75\n",
    "train_recordings = {}\n",
    "test_recordings = {}\n",
    "\n",
    "for i in tqdm(range(len(classes)), position=0, leave=True):\n",
    "    n_train = int(species_recordings[classes[i]] * train_fraction)\n",
    "    n_test = species_recordings[classes[i]] - n_train\n",
    "    print(classes[i], n_train, n_test)\n",
    "    df_class = df_all[df_all.species == classes[i]]\n",
    "    # !!!I think it is probably best to shuffle these to mimic W but need to make sure each ID of mosquito is unique per recording\n",
    "    train_recordings[i] =  shuffle(pd.unique(df_class.name), random_state=42)[:n_train]  \n",
    "    test_recordings[i] = shuffle(pd.unique(df_class.name),random_state=42)[n_train:]"
   ]
  },
  {
   "cell_type": "code",
   "execution_count": 38,
   "metadata": {},
   "outputs": [],
   "source": [
    "def get_feat_multispecies(df_all, label_recordings_dict, data_dir, rate, n_feat):\n",
    "    '''Extract features for multi-class species classification.'''\n",
    "    X = []\n",
    "    y = []\n",
    "\n",
    "    for class_label in tqdm(label_recordings_dict.keys(), position=0, leave=True): # Loop over classes\n",
    "        print('Extracting features for class:', class_label)\n",
    "        for i in label_recordings_dict[class_label]: # Loop over recordings in class\n",
    "            df_match = df_all[df_all.name == i]\n",
    "            for idx, row in df_match.iterrows(): # Loop over clips in recording\n",
    "                _, file_format = os.path.splitext(row['name'])\n",
    "                filename = os.path.join(data_dir, str(row['id']) + file_format)\n",
    "                signal, rate = librosa.load(filename, sr=rate)\n",
    "                feat = librosa.feature.melspectrogram(signal, sr=rate, n_mels=n_feat) \n",
    "#                 feat = librosa.feature.mfcc(y=signal, sr=rate, n_mfcc=n_feat)\n",
    "                feat = librosa.power_to_db(feat, ref=np.max)\n",
    "                if config.norm_per_sample:\n",
    "                    feat = (feat-np.mean(feat))/np.std(feat)                \n",
    "                X.append(feat)\n",
    "                y.append(class_label)\n",
    "    return X, y"
   ]
  },
  {
   "cell_type": "code",
   "execution_count": 39,
   "metadata": {},
   "outputs": [
    {
     "name": "stderr",
     "output_type": "stream",
     "text": [
      "\r",
      "  0%|                                                                                            | 0/8 [00:00<?, ?it/s]"
     ]
    },
    {
     "name": "stdout",
     "output_type": "stream",
     "text": [
      "Extracting features for class: 0\n"
     ]
    },
    {
     "name": "stderr",
     "output_type": "stream",
     "text": [
      "\r",
      " 12%|██████████▍                                                                        | 1/8 [01:49<12:44, 109.23s/it]"
     ]
    },
    {
     "name": "stdout",
     "output_type": "stream",
     "text": [
      "Extracting features for class: 1\n"
     ]
    },
    {
     "name": "stderr",
     "output_type": "stream",
     "text": [
      "\r",
      " 25%|█████████████████████                                                               | 2/8 [02:47<07:54, 79.14s/it]"
     ]
    },
    {
     "name": "stdout",
     "output_type": "stream",
     "text": [
      "Extracting features for class: 2\n"
     ]
    },
    {
     "name": "stderr",
     "output_type": "stream",
     "text": [
      "\r",
      " 38%|███████████████████████████████▌                                                    | 3/8 [02:57<03:58, 47.63s/it]"
     ]
    },
    {
     "name": "stdout",
     "output_type": "stream",
     "text": [
      "Extracting features for class: 3\n"
     ]
    },
    {
     "name": "stderr",
     "output_type": "stream",
     "text": [
      "\r",
      " 50%|██████████████████████████████████████████                                          | 4/8 [03:49<03:18, 49.54s/it]"
     ]
    },
    {
     "name": "stdout",
     "output_type": "stream",
     "text": [
      "Extracting features for class: 4\n"
     ]
    },
    {
     "name": "stderr",
     "output_type": "stream",
     "text": [
      "\r",
      " 62%|████████████████████████████████████████████████████▌                               | 5/8 [04:07<01:53, 37.93s/it]"
     ]
    },
    {
     "name": "stdout",
     "output_type": "stream",
     "text": [
      "Extracting features for class: 5\n"
     ]
    },
    {
     "name": "stderr",
     "output_type": "stream",
     "text": [
      "\r",
      " 75%|███████████████████████████████████████████████████████████████                     | 6/8 [04:17<00:56, 28.43s/it]"
     ]
    },
    {
     "name": "stdout",
     "output_type": "stream",
     "text": [
      "Extracting features for class: 6\n"
     ]
    },
    {
     "name": "stderr",
     "output_type": "stream",
     "text": [
      "\r",
      " 88%|█████████████████████████████████████████████████████████████████████████▌          | 7/8 [04:27<00:22, 22.50s/it]"
     ]
    },
    {
     "name": "stdout",
     "output_type": "stream",
     "text": [
      "Extracting features for class: 7\n"
     ]
    },
    {
     "name": "stderr",
     "output_type": "stream",
     "text": [
      "100%|████████████████████████████████████████████████████████████████████████████████████| 8/8 [04:34<00:00, 34.34s/it]\n"
     ]
    }
   ],
   "source": [
    "X_test, y_test = get_feat_multispecies(df_all, test_recordings, config.data_dir, config.rate, config.n_feat)"
   ]
  },
  {
   "cell_type": "code",
   "execution_count": 40,
   "metadata": {},
   "outputs": [
    {
     "name": "stderr",
     "output_type": "stream",
     "text": [
      "\r",
      "  0%|                                                                                            | 0/8 [00:00<?, ?it/s]"
     ]
    },
    {
     "name": "stdout",
     "output_type": "stream",
     "text": [
      "Extracting features for class: 0\n"
     ]
    },
    {
     "name": "stderr",
     "output_type": "stream",
     "text": [
      "\r",
      " 12%|██████████▍                                                                        | 1/8 [05:26<38:02, 326.00s/it]"
     ]
    },
    {
     "name": "stdout",
     "output_type": "stream",
     "text": [
      "Extracting features for class: 1\n"
     ]
    },
    {
     "name": "stderr",
     "output_type": "stream",
     "text": [
      "\r",
      " 25%|████████████████████▊                                                              | 2/8 [08:38<24:43, 247.24s/it]"
     ]
    },
    {
     "name": "stdout",
     "output_type": "stream",
     "text": [
      "Extracting features for class: 2\n"
     ]
    },
    {
     "name": "stderr",
     "output_type": "stream",
     "text": [
      "\r",
      " 38%|███████████████████████████████▏                                                   | 3/8 [09:07<12:19, 147.80s/it]"
     ]
    },
    {
     "name": "stdout",
     "output_type": "stream",
     "text": [
      "Extracting features for class: 3\n"
     ]
    },
    {
     "name": "stderr",
     "output_type": "stream",
     "text": [
      "\r",
      " 50%|█████████████████████████████████████████▌                                         | 4/8 [11:47<10:09, 152.48s/it]"
     ]
    },
    {
     "name": "stdout",
     "output_type": "stream",
     "text": [
      "Extracting features for class: 4\n"
     ]
    },
    {
     "name": "stderr",
     "output_type": "stream",
     "text": [
      "\r",
      " 62%|███████████████████████████████████████████████████▉                               | 5/8 [12:33<05:42, 114.02s/it]"
     ]
    },
    {
     "name": "stdout",
     "output_type": "stream",
     "text": [
      "Extracting features for class: 5\n"
     ]
    },
    {
     "name": "stderr",
     "output_type": "stream",
     "text": [
      "\r",
      " 75%|███████████████████████████████████████████████████████████████                     | 6/8 [12:57<02:47, 83.57s/it]"
     ]
    },
    {
     "name": "stdout",
     "output_type": "stream",
     "text": [
      "Extracting features for class: 6\n"
     ]
    },
    {
     "name": "stderr",
     "output_type": "stream",
     "text": [
      "\r",
      " 88%|█████████████████████████████████████████████████████████████████████████▌          | 7/8 [13:35<01:08, 68.83s/it]"
     ]
    },
    {
     "name": "stdout",
     "output_type": "stream",
     "text": [
      "Extracting features for class: 7\n"
     ]
    },
    {
     "name": "stderr",
     "output_type": "stream",
     "text": [
      "100%|███████████████████████████████████████████████████████████████████████████████████| 8/8 [13:52<00:00, 104.02s/it]\n"
     ]
    }
   ],
   "source": [
    "# Extract feats, expected runtime ~5 mins\n",
    "X_test, y_test = get_feat_multispecies(df_all, test_recordings, config.data_dir, config.rate, config.n_feat)\n",
    "# Extract feats, expected runtime ~14 mins\n",
    "X_train, y_train = get_feat_multispecies(df_all, train_recordings, config.data_dir, config.rate, config.n_feat)"
   ]
  },
  {
   "cell_type": "markdown",
   "metadata": {},
   "source": [
    "# Save features to pickle"
   ]
  },
  {
   "cell_type": "code",
   "execution_count": 41,
   "metadata": {},
   "outputs": [
    {
     "name": "stdout",
     "output_type": "stream",
     "text": [
      "Saved features to: ../outputs/features/multi-species/humbugdb\\for_diff_log_mel_feat_shuffle_train_norm_True.pickle\n",
      "Saved features to: ../outputs/features/multi-species/humbugdb\\for_diff_log_mel_feat_shuffle_test_norm_True.pickle\n"
     ]
    }
   ],
   "source": [
    "# Save feature output to pickle\n",
    "\n",
    "import pickle\n",
    "pickle_name_train = 'log_mel_feat_shuffle_train_norm_'+str(config.norm_per_sample)+'.pickle'\n",
    "pickle_name_test = 'log_mel_feat_shuffle_test_norm_'+str(config.norm_per_sample)+'.pickle'\n",
    "\n",
    "log_mel_feat_train = {\"X_train\":X_train, \"y_train\":y_train}\n",
    "log_mel_feat_test = {\"X_test\":X_test, \"y_test\":y_test}\n",
    "\n",
    "\n",
    "dir_out = '../outputs/features/multi-species/humbugdb'\n",
    "with open(os.path.join(dir_out, pickle_name_train), 'wb') as f:\n",
    "    pickle.dump(log_mel_feat_train, f, protocol=4)\n",
    "    print('Saved features to:', os.path.join(dir_out, pickle_name_train))\n",
    "    \n",
    "with open(os.path.join(dir_out, pickle_name_test), 'wb') as f:\n",
    "    pickle.dump(log_mel_feat_test, f, protocol=4)\n",
    "    print('Saved features to:', os.path.join(dir_out, pickle_name_test))   "
   ]
  },
  {
   "cell_type": "markdown",
   "metadata": {},
   "source": [
    "# Load pickled features"
   ]
  },
  {
   "cell_type": "code",
   "execution_count": 43,
   "metadata": {},
   "outputs": [],
   "source": [
    "# Load pickle\n",
    "\n",
    "import pickle\n",
    "dir_out = '../outputs/features/multi-species/humbugdb'\n",
    "pickle_name_train = 'log_mel_feat_shuffle_train_norm_'+str(config.norm_per_sample)+'.pickle'\n",
    "pickle_name_test = 'log_mel_feat_shuffle_test_norm_'+str(config.norm_per_sample)+'.pickle'\n",
    "\n",
    "\n",
    "with open(os.path.join(dir_out, pickle_name_train), 'rb') as input_file:\n",
    "    log_mel_feat_train = pickle.load(input_file)\n",
    "    \n",
    "with open(os.path.join(dir_out, pickle_name_test), 'rb') as input_file:\n",
    "    log_mel_feat_test = pickle.load(input_file)\n",
    "    \n",
    "X_train = log_mel_feat_train[\"X_train\"]\n",
    "y_train = log_mel_feat_train[\"y_train\"]\n",
    "X_test = log_mel_feat_test[\"X_test\"]\n",
    "y_test = log_mel_feat_test[\"y_test\"]"
   ]
  },
  {
   "cell_type": "code",
   "execution_count": 48,
   "metadata": {},
   "outputs": [],
   "source": [
    "# Reshape features to be used with CNN (Keras or PyTorch)\n",
    "\n",
    "X_train_CNN, y_train_CNN = feat_util.reshape_feat(X_train, y_train, config.win_size, config.step_size)\n",
    "X_test_CNN, y_test_CNN = feat_util.reshape_feat(X_test, y_test, config.win_size, config.win_size)"
   ]
  },
  {
   "cell_type": "code",
   "execution_count": 49,
   "metadata": {},
   "outputs": [
    {
     "data": {
      "text/plain": [
       "(array([31397., 17163.,  2707., 15981.,  4299.,  2223.,  3575.,  1400.]),\n",
       " array([0.   , 0.875, 1.75 , 2.625, 3.5  , 4.375, 5.25 , 6.125, 7.   ]),\n",
       " <a list of 8 Patch objects>)"
      ]
     },
     "execution_count": 49,
     "metadata": {},
     "output_type": "execute_result"
    },
    {
     "data": {
      "image/png": "[encoded data removed]",
      "text/plain": [
       "<Figure size 432x288 with 1 Axes>"
      ]
     },
     "metadata": {
      "needs_background": "light"
     },
     "output_type": "display_data"
    }
   ],
   "source": [
    "# View class distribution of windows in y label space\n",
    "plt.hist(y_train_CNN, bins=8)"
   ]
  },
  {
   "cell_type": "markdown",
   "metadata": {},
   "source": [
    "# Model definition and optimisation\n",
    "Current model here is identical to the model used in paper for previous results with binary mosquito/noise detection. Acts as good baseline for further work.\n",
    "\n",
    "## ##TODO: implement PyTorch versions for multiclass"
   ]
  },
  {
   "cell_type": "code",
   "execution_count": 85,
   "metadata": {},
   "outputs": [
    {
     "name": "stderr",
     "output_type": "stream",
     "text": [
      "C:\\Users\\ikiskin\\AppData\\Local\\conda\\conda\\envs\\tf-gpu\\lib\\site-packages\\tensorflow\\python\\framework\\dtypes.py:516: FutureWarning: Passing (type, 1) or '1type' as a synonym of type is deprecated; in a future version of numpy, it will be understood as (type, (1,)) / '(1,)type'.\n",
      "  _np_qint8 = np.dtype([(\"qint8\", np.int8, 1)])\n",
      "C:\\Users\\ikiskin\\AppData\\Local\\conda\\conda\\envs\\tf-gpu\\lib\\site-packages\\tensorflow\\python\\framework\\dtypes.py:517: FutureWarning: Passing (type, 1) or '1type' as a synonym of type is deprecated; in a future version of numpy, it will be understood as (type, (1,)) / '(1,)type'.\n",
      "  _np_quint8 = np.dtype([(\"quint8\", np.uint8, 1)])\n",
      "C:\\Users\\ikiskin\\AppData\\Local\\conda\\conda\\envs\\tf-gpu\\lib\\site-packages\\tensorflow\\python\\framework\\dtypes.py:518: FutureWarning: Passing (type, 1) or '1type' as a synonym of type is deprecated; in a future version of numpy, it will be understood as (type, (1,)) / '(1,)type'.\n",
      "  _np_qint16 = np.dtype([(\"qint16\", np.int16, 1)])\n",
      "C:\\Users\\ikiskin\\AppData\\Local\\conda\\conda\\envs\\tf-gpu\\lib\\site-packages\\tensorflow\\python\\framework\\dtypes.py:519: FutureWarning: Passing (type, 1) or '1type' as a synonym of type is deprecated; in a future version of numpy, it will be understood as (type, (1,)) / '(1,)type'.\n",
      "  _np_quint16 = np.dtype([(\"quint16\", np.uint16, 1)])\n",
      "C:\\Users\\ikiskin\\AppData\\Local\\conda\\conda\\envs\\tf-gpu\\lib\\site-packages\\tensorflow\\python\\framework\\dtypes.py:520: FutureWarning: Passing (type, 1) or '1type' as a synonym of type is deprecated; in a future version of numpy, it will be understood as (type, (1,)) / '(1,)type'.\n",
      "  _np_qint32 = np.dtype([(\"qint32\", np.int32, 1)])\n",
      "C:\\Users\\ikiskin\\AppData\\Local\\conda\\conda\\envs\\tf-gpu\\lib\\site-packages\\tensorflow\\python\\framework\\dtypes.py:525: FutureWarning: Passing (type, 1) or '1type' as a synonym of type is deprecated; in a future version of numpy, it will be understood as (type, (1,)) / '(1,)type'.\n",
      "  np_resource = np.dtype([(\"resource\", np.ubyte, 1)])\n",
      "C:\\Users\\ikiskin\\AppData\\Local\\conda\\conda\\envs\\tf-gpu\\lib\\site-packages\\tensorboard\\compat\\tensorflow_stub\\dtypes.py:541: FutureWarning: Passing (type, 1) or '1type' as a synonym of type is deprecated; in a future version of numpy, it will be understood as (type, (1,)) / '(1,)type'.\n",
      "  _np_qint8 = np.dtype([(\"qint8\", np.int8, 1)])\n",
      "C:\\Users\\ikiskin\\AppData\\Local\\conda\\conda\\envs\\tf-gpu\\lib\\site-packages\\tensorboard\\compat\\tensorflow_stub\\dtypes.py:542: FutureWarning: Passing (type, 1) or '1type' as a synonym of type is deprecated; in a future version of numpy, it will be understood as (type, (1,)) / '(1,)type'.\n",
      "  _np_quint8 = np.dtype([(\"quint8\", np.uint8, 1)])\n",
      "C:\\Users\\ikiskin\\AppData\\Local\\conda\\conda\\envs\\tf-gpu\\lib\\site-packages\\tensorboard\\compat\\tensorflow_stub\\dtypes.py:543: FutureWarning: Passing (type, 1) or '1type' as a synonym of type is deprecated; in a future version of numpy, it will be understood as (type, (1,)) / '(1,)type'.\n",
      "  _np_qint16 = np.dtype([(\"qint16\", np.int16, 1)])\n",
      "C:\\Users\\ikiskin\\AppData\\Local\\conda\\conda\\envs\\tf-gpu\\lib\\site-packages\\tensorboard\\compat\\tensorflow_stub\\dtypes.py:544: FutureWarning: Passing (type, 1) or '1type' as a synonym of type is deprecated; in a future version of numpy, it will be understood as (type, (1,)) / '(1,)type'.\n",
      "  _np_quint16 = np.dtype([(\"quint16\", np.uint16, 1)])\n",
      "C:\\Users\\ikiskin\\AppData\\Local\\conda\\conda\\envs\\tf-gpu\\lib\\site-packages\\tensorboard\\compat\\tensorflow_stub\\dtypes.py:545: FutureWarning: Passing (type, 1) or '1type' as a synonym of type is deprecated; in a future version of numpy, it will be understood as (type, (1,)) / '(1,)type'.\n",
      "  _np_qint32 = np.dtype([(\"qint32\", np.int32, 1)])\n",
      "C:\\Users\\ikiskin\\AppData\\Local\\conda\\conda\\envs\\tf-gpu\\lib\\site-packages\\tensorboard\\compat\\tensorflow_stub\\dtypes.py:550: FutureWarning: Passing (type, 1) or '1type' as a synonym of type is deprecated; in a future version of numpy, it will be understood as (type, (1,)) / '(1,)type'.\n",
      "  np_resource = np.dtype([(\"resource\", np.ubyte, 1)])\n",
      "Using TensorFlow backend.\n"
     ]
    }
   ],
   "source": [
    "# Define model: left here for now for optimising\n",
    "\n",
    "import tensorflow as tf\n",
    "import config_keras\n",
    "config_keras.epochs = 80\n",
    "config_keras.batch_size = 128\n",
    "import config\n",
    "from keras.utils import to_categorical\n",
    "# Deep learning\n",
    "# Keras-related imports\n",
    "from keras.models import Sequential\n",
    "from keras.layers import Lambda, Dense, Dropout, Activation, Flatten, LSTM\n",
    "from keras.layers import Convolution1D, MaxPooling2D, Convolution2D\n",
    "from keras import backend as K\n",
    "# K.set_image_dim_ordering('th')\n",
    "from keras.callbacks import ModelCheckpoint, RemoteMonitor, EarlyStopping\n",
    "from keras.models import load_model\n",
    "from keras.layers import Conv2D, MaxPooling2D\n",
    "from keras.regularizers import l2\n",
    "import os\n",
    "from datetime import datetime\n",
    "\n",
    "def train_model_multiclass(X_train, y_train, class_weight=None, X_val=None, y_val=None, start_from=None):\n",
    "\n",
    "\n",
    "\ty_train = tf.keras.utils.to_categorical(y_train)\n",
    "\tif y_val is not None:\n",
    "\t\ty_val = tf.keras.utils.to_categorical(y_val)\n",
    "\n",
    "\n",
    "\t################################ CONVOLUTIONAL NEURAL NETWORK ################################\n",
    "\t## NN parameters\n",
    "# \tclass_weight = {0: 1.,\n",
    "# \t                1: 1.,\n",
    "# \t                }\n",
    "\tinput_shape = (1, X_train.shape[2], X_train.shape[-1])\n",
    "\n",
    "\t# BNN parameters\n",
    "\tdropout=config_keras.dropout  # change to 0.05\n",
    "\t# Regularise\n",
    "\ttau = config_keras.tau\n",
    "\tlengthscale = config_keras.lengthscale\n",
    "\treg = lengthscale**2 * (1 - dropout) / (2. * len(X_train) * tau)\n",
    "\n",
    "\tW_regularizer=l2(reg)  # regularisation used in layers\n",
    "\n",
    "\tmodel = Sequential()\n",
    "\tn_dense = 128\n",
    "\tnb_classes = y_train.shape[1]\n",
    "\t# number of convolutional filters\n",
    "\tnb_conv_filters = 32\n",
    "\t# num_hidden = 236\n",
    "\tnb_conv_filters_2 = 64\n",
    "\tconvout1 = Activation('relu')\n",
    "\tconvout2 = Activation('relu')\n",
    "\n",
    "\tmodel.add(Conv2D(nb_conv_filters, kernel_size = (3,3),\n",
    "\t     activation = 'relu', padding = 'valid', strides = 1,\n",
    "\t     input_shape = input_shape))\n",
    "\tmodel.add(MaxPooling2D(pool_size=(2, 2)))\n",
    "\tmodel.add(Lambda(lambda x: K.dropout(x,level=dropout)))\n",
    "\n",
    "\n",
    "\tmodel.add(Conv2D(nb_conv_filters_2, kernel_size = (3,3),\n",
    "\t     activation = 'relu', padding = 'valid'))\n",
    "\tmodel.add(MaxPooling2D(pool_size=(2, 2)))\n",
    "\tmodel.add(Lambda(lambda x: K.dropout(x,level=dropout)))\n",
    "\tmodel.add(Conv2D(nb_conv_filters_2, kernel_size = (3,3),\n",
    "\t     activation = 'relu', padding = 'valid'))\n",
    "\t# model.add(MaxPooling2D(pool_size=(2, 2)))\n",
    "\tmodel.add(Lambda(lambda x: K.dropout(x,level=dropout)))\n",
    "\n",
    "\t\n",
    "\n",
    "\t# # model.add(Dropout(0.2))\n",
    "\tmodel.add(Conv2D(nb_conv_filters_2, kernel_size = (3,3),\n",
    "\t     activation = 'relu', padding = 'valid'))\n",
    "\tmodel.add(Lambda(lambda x: K.dropout(x,level=dropout)))\n",
    "\n",
    "\t# model.add(Conv2D(nb_conv_filters_2, kernel_size = (3,3),\n",
    "\t#      activation = 'relu', padding = 'valid'))\n",
    "\t# model.add(Lambda(lambda x: K.dropout(x,level=dropout)))\n",
    "\n",
    "\tmodel.add(Flatten())\n",
    "\t# # Shared between MLP and CNN:\n",
    "\tmodel.add(Dense(n_dense, activation='relu'))\n",
    "\tmodel.add(Lambda(lambda x: K.dropout(x,level=dropout)))\n",
    "\n",
    "\n",
    "\tmodel.add(Dense(nb_classes, activation='softmax',W_regularizer=l2(reg)))\n",
    "\tmodel.compile(loss='categorical_crossentropy',\n",
    "\t                optimizer='adadelta',\n",
    "\t                metrics=['accuracy'])\n",
    "\n",
    "\n",
    "\tif start_from is not None:\n",
    "\t\tmodel = load_model(start_from)\n",
    "\t\tprint('Starting from model', start_from)\n",
    "\n",
    "    # if checkpoint_name is not None:\n",
    "    # \tos.path.join(os.path.pardir, 'models', 'keras', checkpoint_name)\n",
    "\n",
    "\tif X_val is None:\n",
    "\t\tmetric = 'accuracy'\n",
    "\t\tval_data = None\n",
    "\telse:\n",
    "\t\tmetric = 'val_accuracy'\n",
    "\t\tval_data = (X_val, y_val)\n",
    "\n",
    "\tmodel_name = 'Win_' + str(config.win_size) + '_Stride_' + str(config.step_size) + '_'\n",
    "\tmodel_name = model_name + datetime.now().strftime(\"%Y_%m_%d_%H_%M_%S\") + '-e{epoch:02d}' + metric + '{' + metric + ':.4f}.hdf5'\n",
    "\t# model_name = model_name + datetime.now().strftime(\"%Y_%m_%d_%H_%M_%S\") + '-e{epoch:02d}.hdf5'\n",
    "\tcheckpoint_filepath = os.path.join(config.model_dir, 'keras_Multiclass',  model_name)\n",
    "\tmodel_checkpoint_callback = ModelCheckpoint(filepath=checkpoint_filepath,save_weights_only=False,\n",
    "\t\tmonitor=metric,\n",
    "\t\tmode='max',\n",
    "\t\tsave_best_only=False)\n",
    "\n",
    "\tmodel.fit(x=X_train, y=y_train, batch_size=config_keras.batch_size, epochs=config_keras.epochs, verbose=1,\n",
    "\t\tvalidation_data=val_data,\n",
    "\t\tshuffle=True, class_weight=class_weight, sample_weight=None, initial_epoch=0,\n",
    "\t\tsteps_per_epoch=None, validation_steps=None, callbacks=[model_checkpoint_callback])\n",
    "\n",
    "\n",
    "\t\n",
    "\treturn model"
   ]
  },
  {
   "cell_type": "code",
   "execution_count": 171,
   "metadata": {},
   "outputs": [],
   "source": [
    "# Compute class weights to weight by inverse of class frequency\n",
    "\n",
    "from sklearn.utils import class_weight\n",
    "\n",
    "class_weights = class_weight.compute_class_weight('balanced',\n",
    "                                                 np.unique(y_train_CNN),\n",
    "                                                 y_train_CNN)"
   ]
  },
  {
   "cell_type": "code",
   "execution_count": 172,
   "metadata": {
    "scrolled": false
   },
   "outputs": [
    {
     "name": "stderr",
     "output_type": "stream",
     "text": [
      "C:\\Users\\ikiskin\\AppData\\Local\\conda\\conda\\envs\\tf-gpu\\lib\\site-packages\\ipykernel_launcher.py:89: UserWarning: Update your `Dense` call to the Keras 2 API: `Dense(8, activation=\"softmax\", kernel_regularizer=<keras.reg...)`\n"
     ]
    },
    {
     "name": "stdout",
     "output_type": "stream",
     "text": [
      "Epoch 1/80\n",
      "78745/78745 [==============================] - 16s 203us/step - loss: 1.1756 - accuracy: 0.5658\n",
      "Epoch 2/80\n",
      "78745/78745 [==============================] - 16s 198us/step - loss: 0.7840 - accuracy: 0.7122\n",
      "Epoch 3/80\n",
      "78745/78745 [==============================] - 16s 199us/step - loss: 0.6033 - accuracy: 0.7774\n",
      "Epoch 4/80\n",
      "78745/78745 [==============================] - 16s 199us/step - loss: 0.4926 - accuracy: 0.8178\n",
      "Epoch 5/80\n",
      "78745/78745 [==============================] - 16s 199us/step - loss: 0.4192 - accuracy: 0.8448\n",
      "Epoch 6/80\n",
      "78745/78745 [==============================] - 16s 199us/step - loss: 0.3649 - accuracy: 0.8655\n",
      "Epoch 7/80\n",
      "78745/78745 [==============================] - 16s 199us/step - loss: 0.3260 - accuracy: 0.8798s - loss: 0.3263 - accura\n",
      "Epoch 8/80\n",
      "78745/78745 [==============================] - 16s 199us/step - loss: 0.2930 - accuracy: 0.8923\n",
      "Epoch 9/80\n",
      "78745/78745 [==============================] - 16s 199us/step - loss: 0.2648 - accuracy: 0.9014\n",
      "Epoch 10/80\n",
      "78745/78745 [==============================] - 16s 199us/step - loss: 0.2496 - accuracy: 0.9082\n",
      "Epoch 11/80\n",
      "78745/78745 [==============================] - 15s 196us/step - loss: 0.2272 - accuracy: 0.9166\n",
      "Epoch 12/80\n",
      "78745/78745 [==============================] - 15s 191us/step - loss: 0.2138 - accuracy: 0.9229\n",
      "Epoch 13/80\n",
      "78745/78745 [==============================] - 15s 191us/step - loss: 0.2020 - accuracy: 0.9283\n",
      "Epoch 14/80\n",
      "78745/78745 [==============================] - 15s 191us/step - loss: 0.1947 - accuracy: 0.9297\n",
      "Epoch 15/80\n",
      "78745/78745 [==============================] - 15s 191us/step - loss: 0.1860 - accuracy: 0.9323\n",
      "Epoch 16/80\n",
      "78745/78745 [==============================] - 15s 191us/step - loss: 0.1759 - accuracy: 0.9361\n",
      "Epoch 17/80\n",
      "78745/78745 [==============================] - 15s 192us/step - loss: 0.1716 - accuracy: 0.9394\n",
      "Epoch 18/80\n",
      "78745/78745 [==============================] - 15s 191us/step - loss: 0.1628 - accuracy: 0.9422\n",
      "Epoch 19/80\n",
      "78745/78745 [==============================] - 15s 191us/step - loss: 0.1595 - accuracy: 0.9427\n",
      "Epoch 20/80\n",
      "78745/78745 [==============================] - 15s 191us/step - loss: 0.1556 - accuracy: 0.9454\n",
      "Epoch 21/80\n",
      "78745/78745 [==============================] - 15s 191us/step - loss: 0.1535 - accuracy: 0.9459\n",
      "Epoch 22/80\n",
      "78745/78745 [==============================] - 15s 191us/step - loss: 0.1480 - accuracy: 0.9478\n",
      "Epoch 23/80\n",
      "78745/78745 [==============================] - 15s 191us/step - loss: 0.1459 - accuracy: 0.9486\n",
      "Epoch 24/80\n",
      "78745/78745 [==============================] - 15s 191us/step - loss: 0.1389 - accuracy: 0.9518\n",
      "Epoch 25/80\n",
      "78745/78745 [==============================] - 15s 191us/step - loss: 0.1387 - accuracy: 0.9513\n",
      "Epoch 26/80\n",
      "78745/78745 [==============================] - 15s 191us/step - loss: 0.1357 - accuracy: 0.9525\n",
      "Epoch 27/80\n",
      "78745/78745 [==============================] - 15s 191us/step - loss: 0.1306 - accuracy: 0.9545\n",
      "Epoch 28/80\n",
      "78745/78745 [==============================] - 15s 195us/step - loss: 0.1305 - accuracy: 0.9542\n",
      "Epoch 29/80\n",
      "78745/78745 [==============================] - 15s 194us/step - loss: 0.1297 - accuracy: 0.9555\n",
      "Epoch 30/80\n",
      "78745/78745 [==============================] - 15s 191us/step - loss: 0.1235 - accuracy: 0.9559\n",
      "Epoch 31/80\n",
      "78745/78745 [==============================] - 15s 191us/step - loss: 0.1247 - accuracy: 0.9567\n",
      "Epoch 32/80\n",
      "78745/78745 [==============================] - 15s 191us/step - loss: 0.1220 - accuracy: 0.9582\n",
      "Epoch 33/80\n",
      "78745/78745 [==============================] - 15s 192us/step - loss: 0.1233 - accuracy: 0.9582\n",
      "Epoch 34/80\n",
      "78745/78745 [==============================] - 15s 192us/step - loss: 0.1205 - accuracy: 0.9585\n",
      "Epoch 35/80\n",
      "78745/78745 [==============================] - 15s 192us/step - loss: 0.1220 - accuracy: 0.9573\n",
      "Epoch 36/80\n",
      "78745/78745 [==============================] - 15s 192us/step - loss: 0.1180 - accuracy: 0.9605\n",
      "Epoch 37/80\n",
      "78745/78745 [==============================] - 15s 192us/step - loss: 0.1149 - accuracy: 0.9599\n",
      "Epoch 38/80\n",
      "78745/78745 [==============================] - 15s 192us/step - loss: 0.1178 - accuracy: 0.9598\n",
      "Epoch 39/80\n",
      "78745/78745 [==============================] - 15s 192us/step - loss: 0.1151 - accuracy: 0.9615\n",
      "Epoch 40/80\n",
      "78745/78745 [==============================] - 15s 192us/step - loss: 0.1147 - accuracy: 0.9615\n",
      "Epoch 41/80\n",
      "78745/78745 [==============================] - 15s 192us/step - loss: 0.1108 - accuracy: 0.9632\n",
      "Epoch 42/80\n",
      "78745/78745 [==============================] - 15s 192us/step - loss: 0.1150 - accuracy: 0.9616\n",
      "Epoch 43/80\n",
      "78745/78745 [==============================] - 15s 191us/step - loss: 0.1172 - accuracy: 0.9609\n",
      "Epoch 44/80\n",
      "78745/78745 [==============================] - 15s 191us/step - loss: 0.1135 - accuracy: 0.9620\n",
      "Epoch 45/80\n",
      "78745/78745 [==============================] - 15s 192us/step - loss: 0.1130 - accuracy: 0.9625\n",
      "Epoch 46/80\n",
      "78745/78745 [==============================] - 15s 192us/step - loss: 0.1137 - accuracy: 0.9622\n",
      "Epoch 47/80\n",
      "78745/78745 [==============================] - 15s 192us/step - loss: 0.1139 - accuracy: 0.9618\n",
      "Epoch 48/80\n",
      "78745/78745 [==============================] - 15s 191us/step - loss: 0.1166 - accuracy: 0.9611\n",
      "Epoch 49/80\n",
      "78745/78745 [==============================] - 15s 191us/step - loss: 0.1175 - accuracy: 0.9615\n",
      "Epoch 50/80\n",
      "78745/78745 [==============================] - 15s 191us/step - loss: 0.1104 - accuracy: 0.9635\n",
      "Epoch 51/80\n",
      "78745/78745 [==============================] - 15s 192us/step - loss: 0.1138 - accuracy: 0.9628\n",
      "Epoch 52/80\n",
      "78745/78745 [==============================] - 15s 192us/step - loss: 0.1166 - accuracy: 0.9615\n",
      "Epoch 53/80\n",
      "78745/78745 [==============================] - 15s 193us/step - loss: 0.1133 - accuracy: 0.9633\n",
      "Epoch 54/80\n",
      "78745/78745 [==============================] - 15s 192us/step - loss: 0.1129 - accuracy: 0.9631\n",
      "Epoch 55/80\n",
      "78745/78745 [==============================] - 15s 192us/step - loss: 0.1161 - accuracy: 0.9627\n",
      "Epoch 56/80\n",
      "78745/78745 [==============================] - 15s 192us/step - loss: 0.1109 - accuracy: 0.9637\n",
      "Epoch 57/80\n",
      "78745/78745 [==============================] - 15s 192us/step - loss: 0.1138 - accuracy: 0.9628\n",
      "Epoch 58/80\n",
      "78745/78745 [==============================] - 15s 192us/step - loss: 0.1141 - accuracy: 0.9632\n",
      "Epoch 59/80\n",
      "78745/78745 [==============================] - 15s 192us/step - loss: 0.1162 - accuracy: 0.9628\n",
      "Epoch 60/80\n",
      "78745/78745 [==============================] - 15s 192us/step - loss: 0.1138 - accuracy: 0.9637\n",
      "Epoch 61/80\n",
      "78745/78745 [==============================] - 15s 192us/step - loss: 0.1169 - accuracy: 0.9631\n",
      "Epoch 62/80\n",
      "78745/78745 [==============================] - 15s 192us/step - loss: 0.1153 - accuracy: 0.9629\n",
      "Epoch 63/80\n",
      "78745/78745 [==============================] - 15s 192us/step - loss: 0.1164 - accuracy: 0.9627\n",
      "Epoch 64/80\n",
      "78745/78745 [==============================] - 15s 192us/step - loss: 0.1170 - accuracy: 0.9628\n",
      "Epoch 65/80\n",
      "78745/78745 [==============================] - 15s 191us/step - loss: 0.1170 - accuracy: 0.9625\n",
      "Epoch 66/80\n",
      "78745/78745 [==============================] - 15s 192us/step - loss: 0.1177 - accuracy: 0.9626\n",
      "Epoch 67/80\n",
      "78745/78745 [==============================] - 15s 192us/step - loss: 0.1164 - accuracy: 0.9629\n",
      "Epoch 68/80\n",
      "78745/78745 [==============================] - 15s 192us/step - loss: 0.1146 - accuracy: 0.9625\n",
      "Epoch 69/80\n",
      "78745/78745 [==============================] - 15s 192us/step - loss: 0.1208 - accuracy: 0.9618\n",
      "Epoch 70/80\n",
      "78745/78745 [==============================] - 15s 192us/step - loss: 0.1162 - accuracy: 0.9629\n",
      "Epoch 71/80\n",
      "78745/78745 [==============================] - 15s 192us/step - loss: 0.1202 - accuracy: 0.9623\n",
      "Epoch 72/80\n",
      "78745/78745 [==============================] - 15s 192us/step - loss: 0.1185 - accuracy: 0.9632\n",
      "Epoch 73/80\n",
      "78745/78745 [==============================] - 15s 192us/step - loss: 0.1204 - accuracy: 0.9622\n",
      "Epoch 74/80\n",
      "78745/78745 [==============================] - 15s 192us/step - loss: 0.1187 - accuracy: 0.9623\n",
      "Epoch 75/80\n",
      "78745/78745 [==============================] - 15s 192us/step - loss: 0.1190 - accuracy: 0.9617\n",
      "Epoch 76/80\n"
     ]
    },
    {
     "name": "stdout",
     "output_type": "stream",
     "text": [
      "78745/78745 [==============================] - 15s 192us/step - loss: 0.1172 - accuracy: 0.9628\n",
      "Epoch 77/80\n",
      "78745/78745 [==============================] - 15s 192us/step - loss: 0.1203 - accuracy: 0.9625\n",
      "Epoch 78/80\n",
      "78745/78745 [==============================] - 15s 192us/step - loss: 0.1142 - accuracy: 0.9643\n",
      "Epoch 79/80\n",
      "78745/78745 [==============================] - 15s 191us/step - loss: 0.1182 - accuracy: 0.9635\n",
      "Epoch 80/80\n",
      "78745/78745 [==============================] - 15s 192us/step - loss: 0.1185 - accuracy: 0.9635\n"
     ]
    }
   ],
   "source": [
    "model = train_model_multiclass(X_train_CNN, y_train_CNN, class_weight = class_weights)"
   ]
  },
  {
   "cell_type": "markdown",
   "metadata": {},
   "source": [
    "# Load model from checkpoint"
   ]
  },
  {
   "cell_type": "code",
   "execution_count": 29,
   "metadata": {},
   "outputs": [],
   "source": [
    "import tensorflow as tf\n",
    "# Select checkpoint to load model (optional)\n",
    "# Following filepath used for results on 26/07/\n",
    "filepath = '../outputs/models/keras_Multiclass/Win_30_Stride_5_2021_07_26_12_59_05-e80accuracy0.9635.hdf5'\n",
    "\n",
    "model = tf.keras.models.load_model(filepath, custom_objects={\"dropout\": 0.2})\n"
   ]
  },
  {
   "cell_type": "code",
   "execution_count": 30,
   "metadata": {},
   "outputs": [],
   "source": [
    "# Sample predictions from BNN. To save time, when analysing quick configurations, set samples to N=10\n",
    "\n",
    "BNN_samples = 100\n",
    "preds_list = []\n",
    "for i in range(BNN_samples):\n",
    "    preds_values = model.predict(X_test_CNN)\n",
    "    preds_list.append(preds_values)"
   ]
  },
  {
   "cell_type": "code",
   "execution_count": 31,
   "metadata": {},
   "outputs": [
    {
     "name": "stdout",
     "output_type": "stream",
     "text": [
      "BNN sampled\n",
      "              precision    recall  f1-score   support\n",
      "\n",
      "           0       0.69      0.82      0.75      1890\n",
      "           1       0.64      0.64      0.64      1000\n",
      "           2       0.90      0.55      0.68       175\n",
      "           3       0.73      0.77      0.75       928\n",
      "           4       0.52      0.31      0.39       275\n",
      "           5       0.36      0.10      0.16       159\n",
      "           6       0.39      0.31      0.34       172\n",
      "           7       0.34      0.16      0.22       122\n",
      "\n",
      "    accuracy                           0.67      4721\n",
      "   macro avg       0.57      0.46      0.49      4721\n",
      "weighted avg       0.65      0.67      0.65      4721\n",
      "\n"
     ]
    },
    {
     "data": {
      "image/png": "[encoded data removed]",
      "text/plain": [
       "<Figure size 1080x576 with 1 Axes>"
      ]
     },
     "metadata": {
      "needs_background": "light"
     },
     "output_type": "display_data"
    }
   ],
   "source": [
    "print('BNN sampled')\n",
    "from sklearn.metrics import classification_report,confusion_matrix\n",
    "\n",
    "cnf_matrix = confusion_matrix(y_test_CNN, np.argmax(np.mean(preds_list,axis=0), axis=1))\n",
    "plot_confusion_matrix_multiclass(cnf_matrix, 'Confusion matrix for testing data', classes)\n",
    "print(classification_report(y_test_CNN, np.argmax(np.mean(preds_list,axis=0), axis=1)))\n"
   ]
  },
  {
   "cell_type": "code",
   "execution_count": 32,
   "metadata": {},
   "outputs": [
    {
     "name": "stdout",
     "output_type": "stream",
     "text": [
      "BNN\n",
      "{0: 0.865415963473187, 1: 0.8812211771029292, 2: 0.9592420338130853, 3: 0.9347013441275671, 4: 0.8740849793481372, 5: 0.8859059940057185, 6: 0.849096658095058, 7: 0.9344565283258299, 'micro': 0.9334057973582994}\n"
     ]
    },
    {
     "data": {
      "image/png": "[encoded data removed]",
      "text/plain": [
       "<Figure size 432x288 with 1 Axes>"
      ]
     },
     "metadata": {
      "needs_background": "light"
     },
     "output_type": "display_data"
    }
   ],
   "source": [
    "compute_plot_roc_multiclass(y_test_CNN, np.mean(preds_list,axis=0), classes, title='Per-window performance')"
   ]
  },
  {
   "cell_type": "markdown",
   "metadata": {},
   "source": [
    "# Evaluate performance per recording (extension)"
   ]
  },
  {
   "cell_type": "code",
   "execution_count": 227,
   "metadata": {},
   "outputs": [],
   "source": [
    "def evaluate_aggregate_predictions(X_test, y_test, model, BNN_samples):\n",
    "    '''Produce a decision of mosquito type per recording based on taking the mean of predictions over strided features as in \n",
    "    feat_util.reshape_feat. By default uses config.win_size and config.step_size as parameters for feature windowing.'''\n",
    "    preds_aggregated_by_mean = []\n",
    "    y_aggregated_prediction_by_mean = []\n",
    "    \n",
    "    for idx, recording in enumerate(X_test):\n",
    "        preds_list = []\n",
    "        X_item, _ = feat_util.reshape_feat([recording], [y_test[idx]], config.win_size, config.step_size)\n",
    "        for i in range(BNN_samples):\n",
    "            preds_values = model.predict(X_item)\n",
    "            preds_list.append(preds_values)\n",
    "        preds_values = np.mean(preds_list,axis=0)\n",
    "    #     G_X, U_X, _ = active_BALD(np.log(preds_list), X_item, 8)\n",
    "\n",
    "        preds_max = np.amax(preds_values, axis=1)\n",
    "        preds = np.argmax(preds_values, axis=1)\n",
    "        y_aggregated_prediction_by_mean.append(np.argmax(np.mean(preds_values, axis=0)))\n",
    "        preds_aggregated_by_mean.append(np.mean(preds_values, axis=0))\n",
    "    return preds_aggregated_by_mean, y_aggregated_prediction_by_mean"
   ]
  },
  {
   "cell_type": "code",
   "execution_count": 228,
   "metadata": {},
   "outputs": [],
   "source": [
    "preds_aggregated_by_mean, y_aggregated_prediction_by_mean = evaluate_aggregate_predictions(X_test, y_test, model, 100)"
   ]
  },
  {
   "cell_type": "code",
   "execution_count": 229,
   "metadata": {},
   "outputs": [
    {
     "name": "stdout",
     "output_type": "stream",
     "text": [
      "              precision    recall  f1-score   support\n",
      "\n",
      "           0       0.66      0.84      0.74       200\n",
      "           1       0.68      0.67      0.67       136\n",
      "           2       1.00      0.42      0.59        24\n",
      "           3       0.76      0.79      0.77        94\n",
      "           4       0.60      0.33      0.43        36\n",
      "           5       0.43      0.13      0.20        23\n",
      "           6       0.39      0.43      0.41        30\n",
      "           7       0.25      0.09      0.13        22\n",
      "\n",
      "    accuracy                           0.66       565\n",
      "   macro avg       0.60      0.46      0.49       565\n",
      "weighted avg       0.65      0.66      0.64       565\n",
      "\n"
     ]
    },
    {
     "data": {
      "image/png": "[encoded data removed]",
      "text/plain": [
       "<Figure size 1080x576 with 1 Axes>"
      ]
     },
     "metadata": {
      "needs_background": "light"
     },
     "output_type": "display_data"
    }
   ],
   "source": [
    "cnf_matrix = confusion_matrix(y_test, y_aggregated_prediction_by_mean)\n",
    "plot_confusion_matrix_multiclass(cnf_matrix, 'Confusion matrix for aggregated data per recording', classes_target)\n",
    "print(classification_report(y_test, y_aggregated_prediction_by_mean))"
   ]
  },
  {
   "cell_type": "code",
   "execution_count": 245,
   "metadata": {},
   "outputs": [
    {
     "name": "stdout",
     "output_type": "stream",
     "text": [
      "BNN\n",
      "{0: 0.8787260273972602, 1: 0.8697038255861785, 2: 0.9205175600739371, 3: 0.9499028775353481, 4: 0.9035916824196597, 5: 0.9159313332263757, 6: 0.9117757009345795, 7: 0.9384731290808639, 'micro': 0.9289824687021022}\n"
     ]
    },
    {
     "data": {
      "image/png": "[encoded data removed]",
      "text/plain": [
       "<Figure size 432x288 with 1 Axes>"
      ]
     },
     "metadata": {
      "needs_background": "light"
     },
     "output_type": "display_data"
    }
   ],
   "source": [
    "compute_plot_roc_multiclass(y_test,np.array(preds_aggregated_by_mean), classes, title='Per-recording performance')"
   ]
  },
  {
   "cell_type": "markdown",
   "metadata": {},
   "source": [
    "# Unused leftovers: to be used for further debugging if necessary"
   ]
  },
  {
   "cell_type": "raw",
   "metadata": {},
   "source": [
    "# Create train test from Waqas' IDs directly:\n",
    "data_dir = 'F:/PostdocCode/Multispecies/data/Classified data/Classified data/classified_data/train_data_chunks/'\n",
    "\n",
    "classes_target = ['An. gambiae s.l','Cx. pipiens complex','Ae. aegypti','An. funestus s.l','An. squamosus','An. coustani',\n",
    "                  'Ma. uniformis','Ma. Africanus']\n",
    "# Loading Waqas' data from the database instead.\n",
    "\n",
    "train_df = pd.read_csv(data_dir+'../train_data_chunks_corrected_db_accepted.csv')\n",
    "test_df = pd.read_csv(data_dir+'../test_data_chunks_corrected_db_accepted.csv')\n",
    "\n",
    "\n",
    "\n",
    "train_recordings = []\n",
    "test_recordings = []\n",
    "\n",
    "def get_feat_multispecies_waqas_humbugdb(df_humbugdb,df_waqas,classes):\n",
    "#!!!!!!!!! Something still buggy, debug later: creates 2562 long train, 875 test: probably multiple clips.\n",
    "\n",
    "    X = []\n",
    "    y = []\n",
    "\n",
    "    for idx, row in df_waqas.iterrows():\n",
    "        df_match = df_humbugdb[df_humbugdb.name == row.file[:-6] + '.wav']\n",
    "        rec_ids = list(df_match.id)\n",
    "        for rec in rec_ids:\n",
    "            filename = os.path.join(config.data_dir, str(rec) + '.wav')\n",
    "            signal, rate = librosa.load(filename, sr=config.rate)\n",
    "            feat = librosa.feature.melspectrogram(signal, sr=config.rate, n_mels=config.n_feat) \n",
    "    #                 feat = librosa.feature.mfcc(y=signal, sr=rate, n_mfcc=n_feat)\n",
    "            feat = librosa.power_to_db(feat, ref=np.max)\n",
    "            if config.norm_per_sample:\n",
    "                feat = (feat-np.mean(feat))/np.std(feat)                \n",
    "            X.append(feat)\n",
    "            y.append(classes.index(row['specie']))\n",
    "    return X, y\n",
    "\n",
    "X_train_wdb, y_train_wdb = get_feat_multispecies_waqas_humbugdb(df_all, train_df, classes_target)\n",
    "X_test_wdb, y_test_wdb = get_feat_multispecies_waqas_humbugdb(df_all, test_df, classes_target)"
   ]
  }
 ],
 "metadata": {
  "kernelspec": {
   "display_name": "Python [conda env:conda-tf-gpu]",
   "language": "python",
   "name": "conda-env-conda-tf-gpu-py"
  },
  "language_info": {
   "codemirror_mode": {
    "name": "ipython",
    "version": 3
   },
   "file_extension": ".py",
   "mimetype": "text/x-python",
   "name": "python",
   "nbconvert_exporter": "python",
   "pygments_lexer": "ipython3",
   "version": "3.7.1"
  }
 },
 "nbformat": 4,
 "nbformat_minor": 2
}
